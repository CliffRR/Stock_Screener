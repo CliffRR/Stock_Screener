{
 "cells": [
  {
   "cell_type": "code",
   "execution_count": 2,
   "id": "separated-airplane",
   "metadata": {},
   "outputs": [],
   "source": [
    "import yahoo_fin.stock_info as si\n",
    "import yahoo_fin.options as ops\n",
    "import numpy as np \n",
    "import pandas as pd\n"
   ]
  },
  {
   "cell_type": "code",
   "execution_count": 3,
   "id": "considerable-hamilton",
   "metadata": {
    "scrolled": true
   },
   "outputs": [],
   "source": [
    "# get list of S&P 500 tickers\n",
    "SNP = si.tickers_sp500() #dow,nasdaq\n",
    "\n",
    "DOW = si.tickers_dow()\n"
   ]
  },
  {
   "cell_type": "code",
   "execution_count": 4,
   "id": "dense-invalid",
   "metadata": {},
   "outputs": [],
   "source": [
    "prices = {}\n",
    "prices1 = {}\n",
    "for ticker in SNP:\n",
    "    prices[ticker] = si.get_data(ticker, start_date = '10/1/2022', interval = '1d')\n",
    "    \n",
    "for ticker in DOW: \n",
    "    prices1[ticker] = si.get_data(ticker, start_date = '10/1/2022', interval = '1d')\n"
   ]
  },
  {
   "cell_type": "code",
   "execution_count": 5,
   "id": "technological-share",
   "metadata": {},
   "outputs": [
    {
     "data": {
      "text/html": [
       "<div>\n",
       "<style scoped>\n",
       "    .dataframe tbody tr th:only-of-type {\n",
       "        vertical-align: middle;\n",
       "    }\n",
       "\n",
       "    .dataframe tbody tr th {\n",
       "        vertical-align: top;\n",
       "    }\n",
       "\n",
       "    .dataframe thead th {\n",
       "        text-align: right;\n",
       "    }\n",
       "</style>\n",
       "<table border=\"1\" class=\"dataframe\">\n",
       "  <thead>\n",
       "    <tr style=\"text-align: right;\">\n",
       "      <th></th>\n",
       "      <th>open</th>\n",
       "      <th>high</th>\n",
       "      <th>low</th>\n",
       "      <th>close</th>\n",
       "      <th>adjclose</th>\n",
       "      <th>volume</th>\n",
       "      <th>ticker</th>\n",
       "    </tr>\n",
       "  </thead>\n",
       "  <tbody>\n",
       "    <tr>\n",
       "      <th>2023-01-03</th>\n",
       "      <td>298.059998</td>\n",
       "      <td>298.390015</td>\n",
       "      <td>288.700012</td>\n",
       "      <td>294.950012</td>\n",
       "      <td>294.950012</td>\n",
       "      <td>6764000</td>\n",
       "      <td>NFLX</td>\n",
       "    </tr>\n",
       "    <tr>\n",
       "      <th>2023-01-04</th>\n",
       "      <td>298.239990</td>\n",
       "      <td>311.140015</td>\n",
       "      <td>295.510010</td>\n",
       "      <td>309.410004</td>\n",
       "      <td>309.410004</td>\n",
       "      <td>9345100</td>\n",
       "      <td>NFLX</td>\n",
       "    </tr>\n",
       "    <tr>\n",
       "      <th>2023-01-05</th>\n",
       "      <td>307.000000</td>\n",
       "      <td>314.179993</td>\n",
       "      <td>304.549988</td>\n",
       "      <td>309.700012</td>\n",
       "      <td>309.700012</td>\n",
       "      <td>8328400</td>\n",
       "      <td>NFLX</td>\n",
       "    </tr>\n",
       "    <tr>\n",
       "      <th>2023-01-06</th>\n",
       "      <td>311.570007</td>\n",
       "      <td>316.769989</td>\n",
       "      <td>303.690002</td>\n",
       "      <td>315.549988</td>\n",
       "      <td>315.549988</td>\n",
       "      <td>8949600</td>\n",
       "      <td>NFLX</td>\n",
       "    </tr>\n",
       "    <tr>\n",
       "      <th>2023-01-09</th>\n",
       "      <td>316.829987</td>\n",
       "      <td>321.700012</td>\n",
       "      <td>313.220001</td>\n",
       "      <td>315.170013</td>\n",
       "      <td>315.170013</td>\n",
       "      <td>6760700</td>\n",
       "      <td>NFLX</td>\n",
       "    </tr>\n",
       "  </tbody>\n",
       "</table>\n",
       "</div>"
      ],
      "text/plain": [
       "                  open        high         low       close    adjclose  \\\n",
       "2023-01-03  298.059998  298.390015  288.700012  294.950012  294.950012   \n",
       "2023-01-04  298.239990  311.140015  295.510010  309.410004  309.410004   \n",
       "2023-01-05  307.000000  314.179993  304.549988  309.700012  309.700012   \n",
       "2023-01-06  311.570007  316.769989  303.690002  315.549988  315.549988   \n",
       "2023-01-09  316.829987  321.700012  313.220001  315.170013  315.170013   \n",
       "\n",
       "             volume ticker  \n",
       "2023-01-03  6764000   NFLX  \n",
       "2023-01-04  9345100   NFLX  \n",
       "2023-01-05  8328400   NFLX  \n",
       "2023-01-06  8949600   NFLX  \n",
       "2023-01-09  6760700   NFLX  "
      ]
     },
     "execution_count": 5,
     "metadata": {},
     "output_type": "execute_result"
    }
   ],
   "source": [
    "#This is to check and make sure prices are accurate \n",
    "prices['NFLX'].tail()\n"
   ]
  },
  {
   "cell_type": "code",
   "execution_count": 6,
   "id": "therapeutic-sense",
   "metadata": {},
   "outputs": [],
   "source": [
    "#Bollinger Bands\n",
    "\n",
    "#rolling_average = \n",
    "#std_dev = abs_divergence.rolling(window=20).std()\n",
    "#multiplier = 2\n",
    "\n",
    "#upper_band = rolling_average + (multiplier * std_dev)\n",
    "#lower_band = rolling_average - (multiplier * std_dev)"
   ]
  },
  {
   "cell_type": "code",
   "execution_count": 7,
   "id": "stone-audience",
   "metadata": {},
   "outputs": [],
   "source": [
    "multiplier = 2\n",
    "adjclose = {}\n",
    "adjclose1 = {}\n",
    "rolling_average = {}\n",
    "rolling_average1 = {}\n",
    "std_dev = {} \n",
    "std_dev1 = {}\n",
    "Upper_Band = {}\n",
    "Upper_Band1 = {}\n",
    "Lower_Band = {}\n",
    "Lower_Band1 = {}\n",
    "\n",
    "Greater_or_equal_Upper_Band_SPY = []\n",
    "Greater_or_equal_Upper_Band_DOW = []\n",
    "Less_or_equal_Lower_Band_SPY = []\n",
    "Less_or_equal_Lower_Band_DOW = []\n",
    "Useless_SPY = []\n",
    "Useless_DOW = []\n",
    "\n",
    "#Screener for SP500\n",
    "for ticker in SNP: \n",
    "    adjclose[ticker] = prices[ticker]['adjclose']\n",
    "    rolling_average[ticker] = adjclose[ticker].rolling(window=20).mean()\n",
    "    std_dev[ticker] = adjclose[ticker].rolling(window=20).std(ddof = 0)\n",
    "    \n",
    "    Upper_Band[ticker] = rolling_average[ticker] + (multiplier * std_dev[ticker])\n",
    "    Lower_Band[ticker] = rolling_average[ticker] - (multiplier * std_dev[ticker])\n",
    "    \n",
    "    if adjclose[ticker][-1] >= Upper_Band[ticker][-1]:\n",
    "    #if adjclose[ticker][-1] >= Upper_Band[ticker][-1] and adjclose[ticker][-1] <= 100:\n",
    "        Greater_or_equal_Upper_Band_SPY.append(ticker)\n",
    "        \n",
    "    elif adjclose[ticker][-1] <= Lower_Band[ticker][-1]:\n",
    "    #elif adjclose[ticker][-1] <= Lower_Band[ticker][-1] and adjclose[ticker][-1] <= 100:       \n",
    "        Less_or_equal_Lower_Band_SPY.append(ticker)\n",
    "        \n",
    "    else:\n",
    "        Useless_SPY.append(ticker)\n",
    "        \n",
    "    "
   ]
  },
  {
   "cell_type": "code",
   "execution_count": 8,
   "id": "controlled-proceeding",
   "metadata": {},
   "outputs": [],
   "source": [
    "#Screener for DOW\n",
    "for ticker in DOW: \n",
    "    adjclose1[ticker] = prices1[ticker]['adjclose']\n",
    "    rolling_average1[ticker] = adjclose1[ticker].rolling(window=20).mean()\n",
    "    std_dev1[ticker] = adjclose1[ticker].rolling(window=20).std(ddof = 0)\n",
    "    \n",
    "    Upper_Band1[ticker] = rolling_average1[ticker] + (multiplier * std_dev1[ticker])\n",
    "    Lower_Band1[ticker] = rolling_average1[ticker] - (multiplier * std_dev1[ticker])\n",
    "    \n",
    "    if adjclose1[ticker][-1] >= Upper_Band1[ticker][-1]:\n",
    "        Greater_or_equal_Upper_Band_DOW.append(ticker)\n",
    "        \n",
    "    elif adjclose1[ticker][-1] <= Lower_Band1[ticker][-1]:\n",
    "        Less_or_equal_Lower_Band_DOW.append(ticker)\n",
    "        \n",
    "    else:\n",
    "        Useless_DOW.append(ticker)"
   ]
  },
  {
   "cell_type": "code",
   "execution_count": 9,
   "id": "2cf9b794",
   "metadata": {},
   "outputs": [
    {
     "data": {
      "text/plain": [
       "['BAX',\n",
       " 'CI',\n",
       " 'DPZ',\n",
       " 'ELV',\n",
       " 'HII',\n",
       " 'HUM',\n",
       " 'LDOS',\n",
       " 'LLY',\n",
       " 'LMT',\n",
       " 'MOH',\n",
       " 'NOC',\n",
       " 'PFE',\n",
       " 'PKI',\n",
       " 'REGN',\n",
       " 'UNH',\n",
       " 'WAT']"
      ]
     },
     "execution_count": 9,
     "metadata": {},
     "output_type": "execute_result"
    }
   ],
   "source": [
    "Less_or_equal_Lower_Band_SPY"
   ]
  },
  {
   "cell_type": "code",
   "execution_count": 10,
   "id": "quick-column",
   "metadata": {},
   "outputs": [
    {
     "data": {
      "text/plain": [
       "['AAL',\n",
       " 'ALGN',\n",
       " 'AOS',\n",
       " 'AVY',\n",
       " 'BALL',\n",
       " 'BEN',\n",
       " 'BK',\n",
       " 'BKNG',\n",
       " 'BKR',\n",
       " 'BLK',\n",
       " 'CAG',\n",
       " 'CBRE',\n",
       " 'CE',\n",
       " 'CRM',\n",
       " 'CTLT',\n",
       " 'CTSH',\n",
       " 'DAL',\n",
       " 'DD',\n",
       " 'DOW',\n",
       " 'DRI',\n",
       " 'EIX',\n",
       " 'EXC',\n",
       " 'FANG',\n",
       " 'FCX',\n",
       " 'FDX',\n",
       " 'FMC',\n",
       " 'GE',\n",
       " 'GLW',\n",
       " 'GPN',\n",
       " 'HOLX',\n",
       " 'HPE',\n",
       " 'IDXX',\n",
       " 'IFF',\n",
       " 'IPG',\n",
       " 'IR',\n",
       " 'ITW',\n",
       " 'KHC',\n",
       " 'KMI',\n",
       " 'LH',\n",
       " 'LKQ',\n",
       " 'LVS',\n",
       " 'LW',\n",
       " 'LYB',\n",
       " 'MA',\n",
       " 'MKTX',\n",
       " 'NTRS',\n",
       " 'NWL',\n",
       " 'OGN',\n",
       " 'OKE',\n",
       " 'ORCL',\n",
       " 'PEG',\n",
       " 'PH',\n",
       " 'PNR',\n",
       " 'PPL',\n",
       " 'RE',\n",
       " 'SIVB',\n",
       " 'SNA',\n",
       " 'SYK',\n",
       " 'TDG',\n",
       " 'TFC',\n",
       " 'TMUS',\n",
       " 'TPR',\n",
       " 'URI',\n",
       " 'USB',\n",
       " 'V',\n",
       " 'VRSN',\n",
       " 'VTR',\n",
       " 'WTW',\n",
       " 'WYNN',\n",
       " 'XEL',\n",
       " 'ZBRA']"
      ]
     },
     "execution_count": 10,
     "metadata": {},
     "output_type": "execute_result"
    }
   ],
   "source": [
    "Greater_or_equal_Upper_Band_SPY"
   ]
  },
  {
   "cell_type": "code",
   "execution_count": 11,
   "id": "exceptional-offering",
   "metadata": {
    "scrolled": true
   },
   "outputs": [
    {
     "data": {
      "text/plain": [
       "['CRM', 'DOW', 'V']"
      ]
     },
     "execution_count": 11,
     "metadata": {},
     "output_type": "execute_result"
    }
   ],
   "source": [
    "Greater_or_equal_Upper_Band_DOW"
   ]
  },
  {
   "cell_type": "code",
   "execution_count": 12,
   "id": "persistent-layout",
   "metadata": {
    "scrolled": true
   },
   "outputs": [
    {
     "data": {
      "text/plain": [
       "['UNH']"
      ]
     },
     "execution_count": 12,
     "metadata": {},
     "output_type": "execute_result"
    }
   ],
   "source": [
    "Less_or_equal_Lower_Band_DOW"
   ]
  },
  {
   "cell_type": "markdown",
   "id": "harmful-solution",
   "metadata": {},
   "source": [
    "###### "
   ]
  },
  {
   "cell_type": "code",
   "execution_count": null,
   "id": "1d8d7beb",
   "metadata": {},
   "outputs": [],
   "source": []
  },
  {
   "cell_type": "code",
   "execution_count": null,
   "id": "f209a484",
   "metadata": {},
   "outputs": [],
   "source": []
  }
 ],
 "metadata": {
  "kernelspec": {
   "display_name": "Python 3",
   "language": "python",
   "name": "python3"
  },
  "language_info": {
   "codemirror_mode": {
    "name": "ipython",
    "version": 3
   },
   "file_extension": ".py",
   "mimetype": "text/x-python",
   "name": "python",
   "nbconvert_exporter": "python",
   "pygments_lexer": "ipython3",
   "version": "3.6.13"
  }
 },
 "nbformat": 4,
 "nbformat_minor": 5
}
